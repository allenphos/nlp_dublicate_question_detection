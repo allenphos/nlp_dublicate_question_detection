{
 "cells": [
  {
   "cell_type": "markdown",
   "id": "ebbe1b50",
   "metadata": {},
   "source": [
    "This notebook performs initial exploration and preprocessing of the Quora Question Pairs dataset for duplicate question detection. Through descriptive statistics, visualization, and targeted outlier removal, this EDA step ensures data quality and reveals key patterns in vocabulary and question formulation. The result is a clean, well-understood dataset - a solid foundation for effective text preprocessing and robust model training."
   ]
  },
  {
   "cell_type": "markdown",
   "id": "909270a9",
   "metadata": {},
   "source": [
    "# 1. Imports"
   ]
  },
  {
   "cell_type": "code",
   "execution_count": 40,
   "id": "b76bec49",
   "metadata": {},
   "outputs": [],
   "source": [
    "import pandas as pd\n",
    "import matplotlib.pyplot as plt\n",
    "import seaborn as sns\n",
    "import matplotlib.pyplot as plt\n",
    "from collections import Counter\n",
    "\n",
    "pd.set_option('float_format', '{:.2f}'.format)"
   ]
  },
  {
   "cell_type": "markdown",
   "id": "47cc2ffd",
   "metadata": {},
   "source": [
    "# 2. Load dataset"
   ]
  },
  {
   "cell_type": "code",
   "execution_count": 41,
   "id": "f53a1096",
   "metadata": {},
   "outputs": [
    {
     "data": {
      "text/html": [
       "<div>\n",
       "<style scoped>\n",
       "    .dataframe tbody tr th:only-of-type {\n",
       "        vertical-align: middle;\n",
       "    }\n",
       "\n",
       "    .dataframe tbody tr th {\n",
       "        vertical-align: top;\n",
       "    }\n",
       "\n",
       "    .dataframe thead th {\n",
       "        text-align: right;\n",
       "    }\n",
       "</style>\n",
       "<table border=\"1\" class=\"dataframe\">\n",
       "  <thead>\n",
       "    <tr style=\"text-align: right;\">\n",
       "      <th></th>\n",
       "      <th>id</th>\n",
       "      <th>qid1</th>\n",
       "      <th>qid2</th>\n",
       "      <th>question1</th>\n",
       "      <th>question2</th>\n",
       "      <th>is_duplicate</th>\n",
       "    </tr>\n",
       "  </thead>\n",
       "  <tbody>\n",
       "    <tr>\n",
       "      <th>0</th>\n",
       "      <td>332278</td>\n",
       "      <td>459256</td>\n",
       "      <td>459257</td>\n",
       "      <td>The Iliad and the Odyssey in the Greek culture?</td>\n",
       "      <td>How do I prove that the pairs of three independent variables is also independent?</td>\n",
       "      <td>0</td>\n",
       "    </tr>\n",
       "    <tr>\n",
       "      <th>1</th>\n",
       "      <td>196656</td>\n",
       "      <td>297402</td>\n",
       "      <td>297403</td>\n",
       "      <td>What is practical management and what is strategic management?</td>\n",
       "      <td>What are the practical aspects of strategic management?</td>\n",
       "      <td>0</td>\n",
       "    </tr>\n",
       "    <tr>\n",
       "      <th>2</th>\n",
       "      <td>113125</td>\n",
       "      <td>184949</td>\n",
       "      <td>184950</td>\n",
       "      <td>How useful is MakeUseOf Answers?</td>\n",
       "      <td>Is there any Q&amp;A site that is not Yahoo answers, where hate speech is allowed?</td>\n",
       "      <td>0</td>\n",
       "    </tr>\n",
       "    <tr>\n",
       "      <th>3</th>\n",
       "      <td>266232</td>\n",
       "      <td>101283</td>\n",
       "      <td>163744</td>\n",
       "      <td>Which is the best place to reside in India and Why?</td>\n",
       "      <td>Which ia the best place to visit in India?</td>\n",
       "      <td>0</td>\n",
       "    </tr>\n",
       "    <tr>\n",
       "      <th>4</th>\n",
       "      <td>122738</td>\n",
       "      <td>17811</td>\n",
       "      <td>27517</td>\n",
       "      <td>Why do so many people ask questions on Quora that can be easily answered by any number of legitimate sources on the Web? Have they not heard of Google or Bing?</td>\n",
       "      <td>Why don't many people posting questions on Quora check Google first?</td>\n",
       "      <td>1</td>\n",
       "    </tr>\n",
       "  </tbody>\n",
       "</table>\n",
       "</div>"
      ],
      "text/plain": [
       "       id    qid1    qid2  \\\n",
       "0  332278  459256  459257   \n",
       "1  196656  297402  297403   \n",
       "2  113125  184949  184950   \n",
       "3  266232  101283  163744   \n",
       "4  122738   17811   27517   \n",
       "\n",
       "                                                                                                                                                         question1  \\\n",
       "0                                                                                                                  The Iliad and the Odyssey in the Greek culture?   \n",
       "1                                                                                                   What is practical management and what is strategic management?   \n",
       "2                                                                                                                                 How useful is MakeUseOf Answers?   \n",
       "3                                                                                                              Which is the best place to reside in India and Why?   \n",
       "4  Why do so many people ask questions on Quora that can be easily answered by any number of legitimate sources on the Web? Have they not heard of Google or Bing?   \n",
       "\n",
       "                                                                           question2  \\\n",
       "0  How do I prove that the pairs of three independent variables is also independent?   \n",
       "1                            What are the practical aspects of strategic management?   \n",
       "2     Is there any Q&A site that is not Yahoo answers, where hate speech is allowed?   \n",
       "3                                         Which ia the best place to visit in India?   \n",
       "4               Why don't many people posting questions on Quora check Google first?   \n",
       "\n",
       "   is_duplicate  \n",
       "0             0  \n",
       "1             0  \n",
       "2             0  \n",
       "3             0  \n",
       "4             1  "
      ]
     },
     "execution_count": 41,
     "metadata": {},
     "output_type": "execute_result"
    }
   ],
   "source": [
    "df = pd.read_csv(\"../data/raw/quora_question_pairs_train.csv.zip\")\n",
    "df.head()"
   ]
  },
  {
   "cell_type": "markdown",
   "id": "c9c98c62",
   "metadata": {},
   "source": [
    "# 3. Dataset info and missing values"
   ]
  },
  {
   "cell_type": "code",
   "execution_count": 42,
   "id": "b75e4ce3",
   "metadata": {},
   "outputs": [
    {
     "name": "stdout",
     "output_type": "stream",
     "text": [
      "<class 'pandas.core.frame.DataFrame'>\n",
      "RangeIndex: 323432 entries, 0 to 323431\n",
      "Data columns (total 6 columns):\n",
      " #   Column        Non-Null Count   Dtype \n",
      "---  ------        --------------   ----- \n",
      " 0   id            323432 non-null  int64 \n",
      " 1   qid1          323432 non-null  int64 \n",
      " 2   qid2          323432 non-null  int64 \n",
      " 3   question1     323431 non-null  object\n",
      " 4   question2     323430 non-null  object\n",
      " 5   is_duplicate  323432 non-null  int64 \n",
      "dtypes: int64(4), object(2)\n",
      "memory usage: 14.8+ MB\n"
     ]
    }
   ],
   "source": [
    "\n",
    "df.info()  # Overview: rows, columns, datatypes"
   ]
  },
  {
   "cell_type": "code",
   "execution_count": 43,
   "id": "aba5d49d",
   "metadata": {},
   "outputs": [
    {
     "data": {
      "text/plain": [
       "id              0\n",
       "qid1            0\n",
       "qid2            0\n",
       "question1       1\n",
       "question2       2\n",
       "is_duplicate    0\n",
       "dtype: int64"
      ]
     },
     "execution_count": 43,
     "metadata": {},
     "output_type": "execute_result"
    }
   ],
   "source": [
    "df.isna().sum()  # How many missing values per column"
   ]
  },
  {
   "cell_type": "markdown",
   "id": "57d19103",
   "metadata": {},
   "source": [
    "# 4. Basic statistics"
   ]
  },
  {
   "cell_type": "code",
   "execution_count": 44,
   "id": "ca5ebc60",
   "metadata": {},
   "outputs": [
    {
     "data": {
      "text/html": [
       "<div>\n",
       "<style scoped>\n",
       "    .dataframe tbody tr th:only-of-type {\n",
       "        vertical-align: middle;\n",
       "    }\n",
       "\n",
       "    .dataframe tbody tr th {\n",
       "        vertical-align: top;\n",
       "    }\n",
       "\n",
       "    .dataframe thead th {\n",
       "        text-align: right;\n",
       "    }\n",
       "</style>\n",
       "<table border=\"1\" class=\"dataframe\">\n",
       "  <thead>\n",
       "    <tr style=\"text-align: right;\">\n",
       "      <th></th>\n",
       "      <th>id</th>\n",
       "      <th>qid1</th>\n",
       "      <th>qid2</th>\n",
       "      <th>is_duplicate</th>\n",
       "    </tr>\n",
       "  </thead>\n",
       "  <tbody>\n",
       "    <tr>\n",
       "      <th>count</th>\n",
       "      <td>323432.00</td>\n",
       "      <td>323432.00</td>\n",
       "      <td>323432.00</td>\n",
       "      <td>323432.00</td>\n",
       "    </tr>\n",
       "    <tr>\n",
       "      <th>mean</th>\n",
       "      <td>202283.31</td>\n",
       "      <td>217326.77</td>\n",
       "      <td>221048.08</td>\n",
       "      <td>0.37</td>\n",
       "    </tr>\n",
       "    <tr>\n",
       "      <th>std</th>\n",
       "      <td>116680.03</td>\n",
       "      <td>157709.13</td>\n",
       "      <td>159882.93</td>\n",
       "      <td>0.48</td>\n",
       "    </tr>\n",
       "    <tr>\n",
       "      <th>min</th>\n",
       "      <td>0.00</td>\n",
       "      <td>1.00</td>\n",
       "      <td>2.00</td>\n",
       "      <td>0.00</td>\n",
       "    </tr>\n",
       "    <tr>\n",
       "      <th>25%</th>\n",
       "      <td>101318.75</td>\n",
       "      <td>74614.75</td>\n",
       "      <td>74859.50</td>\n",
       "      <td>0.00</td>\n",
       "    </tr>\n",
       "    <tr>\n",
       "      <th>50%</th>\n",
       "      <td>202268.50</td>\n",
       "      <td>192394.50</td>\n",
       "      <td>197271.50</td>\n",
       "      <td>0.00</td>\n",
       "    </tr>\n",
       "    <tr>\n",
       "      <th>75%</th>\n",
       "      <td>303348.25</td>\n",
       "      <td>346599.25</td>\n",
       "      <td>354727.00</td>\n",
       "      <td>1.00</td>\n",
       "    </tr>\n",
       "    <tr>\n",
       "      <th>max</th>\n",
       "      <td>404289.00</td>\n",
       "      <td>537932.00</td>\n",
       "      <td>537933.00</td>\n",
       "      <td>1.00</td>\n",
       "    </tr>\n",
       "  </tbody>\n",
       "</table>\n",
       "</div>"
      ],
      "text/plain": [
       "             id      qid1      qid2  is_duplicate\n",
       "count 323432.00 323432.00 323432.00     323432.00\n",
       "mean  202283.31 217326.77 221048.08          0.37\n",
       "std   116680.03 157709.13 159882.93          0.48\n",
       "min        0.00      1.00      2.00          0.00\n",
       "25%   101318.75  74614.75  74859.50          0.00\n",
       "50%   202268.50 192394.50 197271.50          0.00\n",
       "75%   303348.25 346599.25 354727.00          1.00\n",
       "max   404289.00 537932.00 537933.00          1.00"
      ]
     },
     "execution_count": 44,
     "metadata": {},
     "output_type": "execute_result"
    }
   ],
   "source": [
    "\n",
    "df.describe()  # Quick statistical summary of numeric columns"
   ]
  },
  {
   "cell_type": "markdown",
   "id": "a2b9c3be",
   "metadata": {},
   "source": [
    "# 5. Drop rows with missing values"
   ]
  },
  {
   "cell_type": "code",
   "execution_count": 45,
   "id": "adfdaa79",
   "metadata": {},
   "outputs": [],
   "source": [
    "df = df.dropna()"
   ]
  },
  {
   "cell_type": "markdown",
   "id": "e928511f",
   "metadata": {},
   "source": [
    "# 6. Class distribution (target variable)"
   ]
  },
  {
   "cell_type": "code",
   "execution_count": 46,
   "id": "9c92706c",
   "metadata": {},
   "outputs": [
    {
     "name": "stdout",
     "output_type": "stream",
     "text": [
      "is_duplicate\n",
      "0   0.63\n",
      "1   0.37\n",
      "Name: proportion, dtype: float64\n"
     ]
    },
    {
     "data": {
      "image/png": "[encoded data removed]",
      "text/plain": [
       "<Figure size 640x480 with 1 Axes>"
      ]
     },
     "metadata": {},
     "output_type": "display_data"
    }
   ],
   "source": [
    "print(df[\"is_duplicate\"].value_counts(normalize=True))  # Ratio of each class\n",
    "\n",
    "df[\"is_duplicate\"].value_counts().plot(kind=\"bar\")\n",
    "plt.title(\"Class distribution (Duplicate vs Non-duplicate)\")\n",
    "plt.xlabel(\"is_duplicate\")\n",
    "plt.ylabel(\"Count\")\n",
    "plt.xticks(rotation=0)\n",
    "plt.show()"
   ]
  },
  {
   "cell_type": "markdown",
   "id": "719c81d7",
   "metadata": {},
   "source": [
    "# 7. Combined text analysis"
   ]
  },
  {
   "cell_type": "code",
   "execution_count": 47,
   "id": "cc5b7379",
   "metadata": {},
   "outputs": [
    {
     "data": {
      "image/png": "[encoded data removed]",
      "text/plain": [
       "<Figure size 1000x500 with 1 Axes>"
      ]
     },
     "metadata": {},
     "output_type": "display_data"
    },
    {
     "name": "stdout",
     "output_type": "stream",
     "text": [
      "count   323429.00\n",
      "mean       120.66\n",
      "std         55.01\n",
      "min          6.00\n",
      "25%         83.00\n",
      "50%        107.00\n",
      "75%        145.00\n",
      "max       1319.00\n",
      "Name: combined_text_length, dtype: float64\n"
     ]
    }
   ],
   "source": [
    "df[\"combined_text\"] = df[\"question1\"].astype(str) + \" \" + df[\"question2\"].astype(str)\n",
    "df[\"combined_text_length\"] = df[\"combined_text\"].apply(len)\n",
    "\n",
    "# Distribution of combined text length\n",
    "plt.figure(figsize=(10, 5))\n",
    "sns.histplot(df[\"combined_text_length\"], bins=50, kde=True)\n",
    "plt.title(\"Distribution of Combined Text Length (in characters)\")\n",
    "plt.xlabel(\"Combined Text Length\")\n",
    "plt.ylabel(\"Count\")\n",
    "plt.show()\n",
    "\n",
    "# Print descriptive statistics for combined text lengths\n",
    "print(df[\"combined_text_length\"].describe())"
   ]
  },
  {
   "cell_type": "markdown",
   "id": "c7072363",
   "metadata": {},
   "source": [
    "It can be seen that there are outliers in the distribution of combined text length. For example, pairs shorter than 10 characters or longer than 400 characters can be considered outliers according to the histogram. Removing such anomalous rows will help reduce noise and improve model stability."
   ]
  },
  {
   "cell_type": "code",
   "execution_count": null,
   "id": "27686b7d",
   "metadata": {},
   "outputs": [
    {
     "name": "stdout",
     "output_type": "stream",
     "text": [
      "Removing 530 outlier rows (0.16% of total)\n",
      "count   322899.00\n",
      "mean       120.08\n",
      "std         52.88\n",
      "min         14.00\n",
      "25%         83.00\n",
      "50%        107.00\n",
      "75%        145.00\n",
      "max        400.00\n",
      "Name: combined_text_length, dtype: float64\n"
     ]
    }
   ],
   "source": [
    "LOWER_LEN = 10   # Minimum length to keep\n",
    "UPPER_LEN = 400  # Maximum length to keep\n",
    "\n",
    "# Add combined_text and its length, if not already present\n",
    "df[\"combined_text\"] = df[\"question1\"].astype(str) + \" \" + df[\"question2\"].astype(str)\n",
    "df[\"combined_text_length\"] = df[\"combined_text\"].apply(len)\n",
    "\n",
    "# Build a mask for valid rows\n",
    "mask = (df[\"combined_text_length\"] >= LOWER_LEN) & (df[\"combined_text_length\"] <= UPPER_LEN)\n",
    "\n",
    "# Print how many rows will be removed as outliers\n",
    "num_removed = len(df) - mask.sum()\n",
    "percent_removed = 100 * num_removed / len(df)\n",
    "print(f\"Removing {num_removed} outlier rows ({percent_removed:.2f}% of total)\")\n",
    "\n",
    "# Keep only non-outlier rows\n",
    "df = df[mask].copy()\n",
    "\n",
    "# Reset index\n",
    "df.reset_index(drop=True, inplace=True)\n",
    "\n",
    "# Check new distribution\n",
    "print(df[\"combined_text_length\"].describe())\n",
    "\n",
    "df = df.drop(columns=[\"combined_text_length\"])"
   ]
  },
  {
   "cell_type": "markdown",
   "id": "4001d6fc",
   "metadata": {},
   "source": [
    "# 8. Unique word statistics"
   ]
  },
  {
   "cell_type": "code",
   "execution_count": 49,
   "id": "6467baa4",
   "metadata": {},
   "outputs": [
    {
     "name": "stdout",
     "output_type": "stream",
     "text": [
      "Unique words in question1: 125956\n",
      "Unique words in question2: 120639\n",
      "Unique words in both: 177405\n"
     ]
    }
   ],
   "source": [
    "unique_words_q1 = set(\" \".join(df[\"question1\"].astype(str)).lower().split())\n",
    "unique_words_q2 = set(\" \".join(df[\"question2\"].astype(str)).lower().split())\n",
    "unique_words_total = unique_words_q1.union(unique_words_q2)\n",
    "\n",
    "print(f\"Unique words in question1: {len(unique_words_q1)}\")\n",
    "print(f\"Unique words in question2: {len(unique_words_q2)}\")\n",
    "print(f\"Unique words in both: {len(unique_words_total)}\")"
   ]
  },
  {
   "cell_type": "markdown",
   "id": "abbecdca",
   "metadata": {},
   "source": [
    "# 9. Most frequent words in all questions"
   ]
  },
  {
   "cell_type": "code",
   "execution_count": 50,
   "id": "6f709078",
   "metadata": {},
   "outputs": [
    {
     "name": "stdout",
     "output_type": "stream",
     "text": [
      "Top 10 most frequent words:\n",
      "the: 299668\n",
      "what: 248417\n",
      "is: 214106\n",
      "how: 175027\n",
      "i: 168405\n",
      "a: 166941\n",
      "to: 162011\n",
      "in: 154716\n",
      "of: 126411\n",
      "do: 123518\n"
     ]
    },
    {
     "data": {
      "image/png": "[encoded data removed]",
      "text/plain": [
       "<Figure size 1000x500 with 1 Axes>"
      ]
     },
     "metadata": {},
     "output_type": "display_data"
    }
   ],
   "source": [
    "all_words = \" \".join(df[\"question1\"].astype(str) + \" \" + df[\"question2\"].astype(str)).lower().split()\n",
    "word_counts = Counter(all_words)\n",
    "\n",
    "print(\"Top 10 most frequent words:\")\n",
    "for word, count in word_counts.most_common(10):\n",
    "    print(f\"{word}: {count}\")\n",
    "    \n",
    "# Plot top 20 most frequent words\n",
    "most_common = word_counts.most_common(20)\n",
    "words, counts = zip(*most_common)\n",
    "\n",
    "plt.figure(figsize=(10, 5))\n",
    "plt.bar(words, counts)\n",
    "plt.title(\"Top 20 Most Frequent Words in Questions\")\n",
    "plt.xlabel(\"Word\")\n",
    "plt.ylabel(\"Count\")\n",
    "plt.xticks(rotation=45)\n",
    "plt.show()"
   ]
  },
  {
   "cell_type": "markdown",
   "id": "03d161d8",
   "metadata": {},
   "source": [
    "# 10. Token overlap ratio between question1 and question2"
   ]
  },
  {
   "cell_type": "code",
   "execution_count": 51,
   "id": "1c335f30",
   "metadata": {},
   "outputs": [
    {
     "data": {
      "image/png": "[encoded data removed]",
      "text/plain": [
       "<Figure size 640x480 with 1 Axes>"
      ]
     },
     "metadata": {},
     "output_type": "display_data"
    }
   ],
   "source": [
    "ratios = []\n",
    "for q1, q2 in zip(df[\"question1\"], df[\"question2\"]):\n",
    "    set1 = set(str(q1).lower().split())\n",
    "    set2 = set(str(q2).lower().split())\n",
    "    # Only calculate ratio if at least one question is non-empty\n",
    "    if set1 or set2:\n",
    "        ratio = len(set1 & set2) / len(set1 | set2)\n",
    "        ratios.append(ratio)\n",
    "\n",
    "sns.histplot(ratios, bins=30)\n",
    "plt.title(\"Token overlap ratio between question pairs\")\n",
    "plt.xlabel(\"Token overlap ratio\")\n",
    "plt.ylabel(\"Count\")\n",
    "plt.show()"
   ]
  },
  {
   "cell_type": "markdown",
   "id": "45ba9a1d",
   "metadata": {},
   "source": [
    "Token Overlap Ratio measures the proportion of shared unique words between two questions in a pair.\n",
    "The closer the value is to 1, the more similar (lexically) the questions are.\n",
    "The histogram shows that most question pairs have a low overlap ratio, meaning their word sets are quite different.\n",
    "This is a good sign: it means dataset includes many pairs that are formulated differently, the model will need to learn meaning, not just rely on shared words."
   ]
  },
  {
   "cell_type": "code",
   "execution_count": 52,
   "id": "5fda2f31",
   "metadata": {},
   "outputs": [],
   "source": [
    "# Save cleaned data for further processing\n",
    "df.to_csv(\"../data/processed/quora_train_cleaned.csv\", index=False)\n"
   ]
  }
 ],
 "metadata": {
  "kernelspec": {
   "display_name": "Python 3",
   "language": "python",
   "name": "python3"
  },
  "language_info": {
   "codemirror_mode": {
    "name": "ipython",
    "version": 3
   },
   "file_extension": ".py",
   "mimetype": "text/x-python",
   "name": "python",
   "nbconvert_exporter": "python",
   "pygments_lexer": "ipython3",
   "version": "3.12.3"
  }
 },
 "nbformat": 4,
 "nbformat_minor": 5
}
