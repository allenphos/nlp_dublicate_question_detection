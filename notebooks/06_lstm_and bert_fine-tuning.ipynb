{
 "cells": [
  {
   "cell_type": "markdown",
   "id": "5d06a577",
   "metadata": {},
   "source": [
    "This notebook compares deep learning approaches for the Quora duplicate question detection task. The primary goal was to assess whether transformer-based models outperform traditional models when trained on an augmented dataset that includes additional positive samples generated with a language model.\n",
    "\n",
    "Two model families were evaluated:\n",
    "\n",
    "LSTM: A recurrent neural network trained on preprocessed sequences formed from question pairs. The model used a vocabulary size of 15,000 and a maximum sequence length of 60 tokens.\n",
    "\n",
    "DistilBERT: A transformer-based model fine-tuned end-to-end on the same training data. Fine-tuning was performed over 3 epochs with batch size 16, and evaluation was carried out on both the train and held-out test set.\n",
    "\n",
    "Evaluation metrics included accuracy, F1-score, and log loss for both models."
   ]
  },
  {
   "cell_type": "markdown",
   "id": "866b61d2",
   "metadata": {},
   "source": [
    "# Imports"
   ]
  },
  {
   "cell_type": "code",
   "execution_count": 9,
   "id": "f3f04f51",
   "metadata": {},
   "outputs": [],
   "source": [
    "import numpy as np\n",
    "import pandas as pd\n",
    "import sys\n",
    "sys.path.append('..')\n",
    "from src.models.lstm_trainer import LSTMTrainer\n",
    "from src.models.bert_finetuner import BertFineTuner\n",
    "from transformers import AutoModelForSequenceClassification, AutoTokenizer, Trainer, TrainingArguments\n",
    "from datasets import Dataset\n",
    "from sklearn.metrics import confusion_matrix, ConfusionMatrixDisplay, classification_report\n",
    "import matplotlib.pyplot as plt"
   ]
  },
  {
   "cell_type": "code",
   "execution_count": 3,
   "id": "4aff0194",
   "metadata": {},
   "outputs": [],
   "source": [
    "# Load augmented + original training data\n",
    "full_train_df = pd.read_csv(\"../data/processed/full_train_augmented.csv\")\n",
    "\n",
    "# Clean NaNs and filter label if needed\n",
    "full_train_df = full_train_df.dropna(subset=['question1', 'question2', 'is_duplicate'])\n",
    "\n",
    "# Create text column for LSTM (you can also try joining Q1 + Q2 for now)\n",
    "full_train_df[\"cleaned_text\"] = full_train_df[\"question1\"].astype(str) + \" [SEP] \" + full_train_df[\"question2\"].astype(str)\n",
    "\n",
    "# Optional: Use a held-out test set\n",
    "test_df = pd.read_csv(\"../data/processed/quora_test_with_bert_sim.csv\")\n",
    "test_df = test_df.dropna(subset=[\"question1\", \"question2\", \"is_duplicate\"])\n",
    "test_df[\"cleaned_text\"] = test_df[\"question1\"].astype(str) + \" [SEP] \" + test_df[\"question2\"].astype(str)\n",
    "\n",
    "# Optional: Smaller train_df for quick tests (if you're using .train_on_mini)\n",
    "#train_df = full_train_df.sample(20000, random_state=42)  # Or full_train_df\n"
   ]
  },
  {
   "cell_type": "markdown",
   "id": "7ecf84e1",
   "metadata": {},
   "source": [
    "# LSTM Model: Sequence Preparation and Training"
   ]
  },
  {
   "cell_type": "code",
   "execution_count": 5,
   "id": "1d6caf45",
   "metadata": {},
   "outputs": [
    {
     "name": "stdout",
     "output_type": "stream",
     "text": [
      "Epoch 1/5\n"
     ]
    },
    {
     "name": "stderr",
     "output_type": "stream",
     "text": [
      "c:\\Users\\allen\\AppData\\Local\\Programs\\Python\\Python312\\Lib\\site-packages\\keras\\src\\layers\\core\\embedding.py:97: UserWarning: Argument `input_length` is deprecated. Just remove it.\n",
      "  warnings.warn(\n"
     ]
    },
    {
     "name": "stdout",
     "output_type": "stream",
     "text": [
      "\u001b[1m1833/1833\u001b[0m \u001b[32m━━━━━━━━━━━━━━━━━━━━\u001b[0m\u001b[37m\u001b[0m \u001b[1m145s\u001b[0m 77ms/step - accuracy: 0.7312 - loss: 0.5338 - val_accuracy: 0.7649 - val_loss: 0.4826\n",
      "Epoch 2/5\n",
      "\u001b[1m1833/1833\u001b[0m \u001b[32m━━━━━━━━━━━━━━━━━━━━\u001b[0m\u001b[37m\u001b[0m \u001b[1m142s\u001b[0m 78ms/step - accuracy: 0.7888 - loss: 0.4418 - val_accuracy: 0.7770 - val_loss: 0.4642\n",
      "Epoch 3/5\n",
      "\u001b[1m1833/1833\u001b[0m \u001b[32m━━━━━━━━━━━━━━━━━━━━\u001b[0m\u001b[37m\u001b[0m \u001b[1m148s\u001b[0m 81ms/step - accuracy: 0.8244 - loss: 0.3804 - val_accuracy: 0.7808 - val_loss: 0.4652\n",
      "Epoch 4/5\n",
      "\u001b[1m1833/1833\u001b[0m \u001b[32m━━━━━━━━━━━━━━━━━━━━\u001b[0m\u001b[37m\u001b[0m \u001b[1m143s\u001b[0m 78ms/step - accuracy: 0.8579 - loss: 0.3181 - val_accuracy: 0.7753 - val_loss: 0.5001\n",
      "\u001b[1m1522/1522\u001b[0m \u001b[32m━━━━━━━━━━━━━━━━━━━━\u001b[0m\u001b[37m\u001b[0m \u001b[1m14s\u001b[0m 9ms/step\n",
      "F1-score: 0.6843834330634753\n",
      "Log loss: 0.462216912393905\n",
      "Confusion matrix:\n",
      " [[26272  4254]\n",
      " [ 6506 11666]]\n",
      "Classification report:\n",
      "               precision    recall  f1-score   support\n",
      "\n",
      "           0       0.80      0.86      0.83     30526\n",
      "           1       0.73      0.64      0.68     18172\n",
      "\n",
      "    accuracy                           0.78     48698\n",
      "   macro avg       0.77      0.75      0.76     48698\n",
      "weighted avg       0.78      0.78      0.78     48698\n",
      "\n"
     ]
    },
    {
     "data": {
      "text/plain": [
       "{'f1': 0.6843834330634753, 'logloss': 0.462216912393905}"
      ]
     },
     "execution_count": 5,
     "metadata": {},
     "output_type": "execute_result"
    }
   ],
   "source": [
    "# Initialize LSTM trainer with hyperparameters\n",
    "lstm_trainer = LSTMTrainer(max_num_words=15000, max_seq_len=60)\n",
    "\n",
    "# Prepare sequences from the full training dataframe\n",
    "X, y = lstm_trainer.prepare_sequences(full_train_df, col1=\"question1\", col2=\"question2\")\n",
    "\n",
    "# Split data into train, validation, and test sets (stratified by class)\n",
    "X_train, X_val, X_test, y_train, y_val, y_test = lstm_trainer.train_val_test_split(X, y)\n",
    "\n",
    "# Build and compile the LSTM model\n",
    "lstm_trainer.build_model()\n",
    "\n",
    "# Train the LSTM model\n",
    "lstm_trainer.train(\n",
    "    X_train, y_train, \n",
    "    X_val, y_val, \n",
    "    epochs=5, batch_size=128\n",
    ")\n",
    "\n",
    "# Evaluate the model on the test set\n",
    "lstm_trainer.evaluate(X_test, y_test)"
   ]
  },
  {
   "cell_type": "markdown",
   "id": "9d40af1c",
   "metadata": {},
   "source": [
    "# BERT/DistilBERT Fine-tuning and Evaluation"
   ]
  },
  {
   "cell_type": "code",
   "execution_count": null,
   "id": "65ffe930",
   "metadata": {},
   "outputs": [],
   "source": [
    "# Initialize the fine-tuner for a transformer model\n",
    "finetuner = BertFineTuner(model_ckpt=\"distilbert-base-uncased\")\n",
    "\n",
    "# Fine-tune the transformer model on the full training data\n",
    "results = finetuner.train_full(full_train_df, test_df, n_epochs=3, batch_size=16)"
   ]
  },
  {
   "cell_type": "code",
   "execution_count": 4,
   "id": "379d2f26",
   "metadata": {},
   "outputs": [
    {
     "name": "stderr",
     "output_type": "stream",
     "text": [
      "Some weights of DistilBertForSequenceClassification were not initialized from the model checkpoint at distilbert-base-uncased and are newly initialized: ['classifier.bias', 'classifier.weight', 'pre_classifier.bias', 'pre_classifier.weight']\n",
      "You should probably TRAIN this model on a down-stream task to be able to use it for predictions and inference.\n"
     ]
    },
    {
     "data": {
      "application/vnd.jupyter.widget-view+json": {
       "model_id": "d11b3ae742bb4f108a15d46994bda864",
       "version_major": 2,
       "version_minor": 0
      },
      "text/plain": [
       "Map:   0%|          | 0/324649 [00:00<?, ? examples/s]"
      ]
     },
     "metadata": {},
     "output_type": "display_data"
    },
    {
     "name": "stderr",
     "output_type": "stream",
     "text": [
      "C:\\Users\\allen\\AppData\\Local\\Temp\\ipykernel_17196\\1890015449.py:17: FutureWarning: `tokenizer` is deprecated and will be removed in version 5.0.0 for `Trainer.__init__`. Use `processing_class` instead.\n",
      "  trainer = Trainer(\n"
     ]
    },
    {
     "data": {
      "text/html": [],
      "text/plain": [
       "<IPython.core.display.HTML object>"
      ]
     },
     "metadata": {},
     "output_type": "display_data"
    },
    {
     "name": "stdout",
     "output_type": "stream",
     "text": [
      "Evaluation on full TRAIN set:\n",
      "{'eval_loss': 0.09895668923854828, 'eval_model_preparation_time': 0.002, 'eval_accuracy': 0.9673185501880492, 'eval_log_loss': 0.09895668123996684, 'eval_f1': 0.9569402845756122, 'eval_runtime': 610.0809, 'eval_samples_per_second': 532.141, 'eval_steps_per_second': 33.26}\n"
     ]
    }
   ],
   "source": [
    "# Evaluation\n",
    "model = AutoModelForSequenceClassification.from_pretrained(\"distilbert-full\")\n",
    "tokenizer = AutoTokenizer.from_pretrained(\"distilbert-full\")\n",
    "\n",
    "finetuner = BertFineTuner(model_ckpt=\"distilbert-base-uncased\")\n",
    "finetuner.model = model \n",
    "\n",
    "train_ds = finetuner.df_to_hfds(full_train_df)\n",
    "train_tok = train_ds.map(finetuner.tokenize_batch, batched=True, remove_columns=[\"text\"])\n",
    "\n",
    "args = TrainingArguments(\n",
    "    output_dir=\"tmp-eval-train\",\n",
    "    per_device_eval_batch_size=16,\n",
    "    logging_dir=\"./logs\"\n",
    ")\n",
    "\n",
    "trainer = Trainer(\n",
    "    model=finetuner.model,\n",
    "    args=args,\n",
    "    eval_dataset=train_tok,\n",
    "    tokenizer=finetuner.tokenizer,\n",
    "    data_collator=finetuner.collator,\n",
    "    compute_metrics=finetuner.metrics\n",
    ")\n",
    "\n",
    "results_train = trainer.evaluate()\n",
    "print(\"Evaluation on full TRAIN set:\")\n",
    "print(results_train)"
   ]
  },
  {
   "cell_type": "markdown",
   "id": "b148395d",
   "metadata": {},
   "source": [
    "Evaluation on full TRAIN set:\n",
    "{'eval_loss': 0.09895668923854828, 'eval_model_preparation_time': 0.002, 'eval_accuracy': 0.9673185501880492, 'eval_log_loss': 0.09895668123996684, 'eval_f1': 0.9569402845756122, 'eval_runtime': 605.151, 'eval_samples_per_second': 536.476, 'eval_steps_per_second': 33.53}"
   ]
  },
  {
   "cell_type": "code",
   "execution_count": 5,
   "id": "35413299",
   "metadata": {},
   "outputs": [
    {
     "data": {
      "text/plain": [
       "('../src/models/distilbert_finetuned\\\\tokenizer_config.json',\n",
       " '../src/models/distilbert_finetuned\\\\special_tokens_map.json',\n",
       " '../src/models/distilbert_finetuned\\\\vocab.txt',\n",
       " '../src/models/distilbert_finetuned\\\\added_tokens.json',\n",
       " '../src/models/distilbert_finetuned\\\\tokenizer.json')"
      ]
     },
     "execution_count": 5,
     "metadata": {},
     "output_type": "execute_result"
    }
   ],
   "source": [
    "finetuner.model.save_pretrained(\"../src/models/distilbert_finetuned\")\n",
    "finetuner.tokenizer.save_pretrained(\"../src/models/distilbert_finetuned\")"
   ]
  },
  {
   "cell_type": "code",
   "execution_count": 11,
   "id": "1c855060",
   "metadata": {},
   "outputs": [
    {
     "data": {
      "image/png": "[encoded data removed]",
      "text/plain": [
       "<Figure size 640x480 with 2 Axes>"
      ]
     },
     "metadata": {},
     "output_type": "display_data"
    },
    {
     "name": "stdout",
     "output_type": "stream",
     "text": [
      "              precision    recall  f1-score   support\n",
      "\n",
      "     Not Dup       0.98      0.96      0.97    203504\n",
      "         Dup       0.94      0.97      0.96    121145\n",
      "\n",
      "    accuracy                           0.97    324649\n",
      "   macro avg       0.96      0.97      0.97    324649\n",
      "weighted avg       0.97      0.97      0.97    324649\n",
      "\n"
     ]
    },
    {
     "data": {
      "text/html": [
       "\n",
       "    <div>\n",
       "      \n",
       "      <progress value='5054' max='5054' style='width:300px; height:20px; vertical-align: middle;'></progress>\n",
       "      [5054/5054 02:37]\n",
       "    </div>\n",
       "    "
      ],
      "text/plain": [
       "<IPython.core.display.HTML object>"
      ]
     },
     "metadata": {},
     "output_type": "display_data"
    }
   ],
   "source": [
    "# Prediction\n",
    "preds_output = trainer.predict(train_tok)  \n",
    "y_pred = np.argmax(preds_output.predictions, axis=1)\n",
    "y_true = preds_output.label_ids\n",
    "\n",
    "# Matrix and classification report\n",
    "cm = confusion_matrix(y_true, y_pred)\n",
    "disp = ConfusionMatrixDisplay(confusion_matrix=cm, display_labels=[\"Not Dup\", \"Dup\"])\n",
    "disp.plot(cmap=\"Blues\", values_format='d')\n",
    "plt.title(\"Confusion Matrix on TRAIN\")  # або TEST\n",
    "plt.show()\n",
    "\n",
    "print(classification_report(y_true, y_pred, target_names=[\"Not Dup\", \"Dup\"]))\n",
    "results_test = trainer.evaluate(eval_dataset=test_tok)"
   ]
  },
  {
   "cell_type": "markdown",
   "id": "e992fc23",
   "metadata": {},
   "source": [
    "# test_df for evaluation"
   ]
  },
  {
   "cell_type": "code",
   "execution_count": 10,
   "id": "2991766e",
   "metadata": {},
   "outputs": [
    {
     "data": {
      "application/vnd.jupyter.widget-view+json": {
       "model_id": "871875d06fe044e6915fec70dd2bc780",
       "version_major": 2,
       "version_minor": 0
      },
      "text/plain": [
       "Map:   0%|          | 0/80858 [00:00<?, ? examples/s]"
      ]
     },
     "metadata": {},
     "output_type": "display_data"
    },
    {
     "name": "stderr",
     "output_type": "stream",
     "text": [
      "C:\\Users\\allen\\AppData\\Local\\Temp\\ipykernel_17196\\402863424.py:12: FutureWarning: `tokenizer` is deprecated and will be removed in version 5.0.0 for `Trainer.__init__`. Use `processing_class` instead.\n",
      "  trainer = Trainer(\n"
     ]
    },
    {
     "data": {
      "text/html": [],
      "text/plain": [
       "<IPython.core.display.HTML object>"
      ]
     },
     "metadata": {},
     "output_type": "display_data"
    },
    {
     "data": {
      "image/png": "[encoded data removed]",
      "text/plain": [
       "<Figure size 640x480 with 2 Axes>"
      ]
     },
     "metadata": {},
     "output_type": "display_data"
    },
    {
     "name": "stdout",
     "output_type": "stream",
     "text": [
      "              precision    recall  f1-score   support\n",
      "\n",
      "     Not Dup       0.93      0.91      0.92     51005\n",
      "         Dup       0.85      0.89      0.87     29853\n",
      "\n",
      "    accuracy                           0.90     80858\n",
      "   macro avg       0.89      0.90      0.89     80858\n",
      "weighted avg       0.90      0.90      0.90     80858\n",
      "\n"
     ]
    },
    {
     "data": {
      "text/html": [],
      "text/plain": [
       "<IPython.core.display.HTML object>"
      ]
     },
     "metadata": {},
     "output_type": "display_data"
    },
    {
     "name": "stdout",
     "output_type": "stream",
     "text": [
      "Test Accuracy: 0.899675975166341\n",
      "Test F1: 0.8675202508492291\n",
      "Test LogLoss: 0.33365573444021235\n",
      "Evaluation on full test set:\n",
      "{'eval_loss': 0.3336557149887085, 'eval_model_preparation_time': 0.0022, 'eval_accuracy': 0.899675975166341, 'eval_log_loss': 0.33365573444021235, 'eval_f1': 0.8675202508492291, 'eval_runtime': 158.9823, 'eval_samples_per_second': 508.597, 'eval_steps_per_second': 31.79}\n"
     ]
    }
   ],
   "source": [
    "def to_dataset(df):\n",
    "    df = df.rename(columns={\"is_duplicate\": \"labels\"}).copy()\n",
    "    df[\"text\"] = df[\"question1\"].fillna(\"\") + \" [SEP] \" + df[\"question2\"].fillna(\"\")\n",
    "    return Dataset.from_pandas(df[[\"text\", \"labels\"]])\n",
    "\n",
    "def tokenize_batch(batch):\n",
    "    return tokenizer(batch[\"text\"], truncation=True, padding=\"max_length\", max_length=64)\n",
    "\n",
    "test_dataset = to_dataset(test_df)\n",
    "test_tok = test_dataset.map(tokenize_batch, batched=True, remove_columns=[\"text\"])\n",
    "\n",
    "trainer = Trainer(\n",
    "    model=model,\n",
    "    tokenizer=tokenizer,\n",
    "    compute_metrics=finetuner.metrics, \n",
    "    data_collator=finetuner.collator,\n",
    "    args=TrainingArguments(\n",
    "        output_dir=\"tmp-eval-test\",\n",
    "        per_device_eval_batch_size=16,\n",
    "        logging_dir=\"./logs\"\n",
    "    )\n",
    ")\n",
    "# Prediction\n",
    "preds_output = trainer.predict(test_tok)  \n",
    "y_pred = np.argmax(preds_output.predictions, axis=1)\n",
    "y_true = preds_output.label_ids\n",
    "\n",
    "# Matrix and classification report\n",
    "cm = confusion_matrix(y_true, y_pred)\n",
    "disp = ConfusionMatrixDisplay(confusion_matrix=cm, display_labels=[\"Not Dup\", \"Dup\"])\n",
    "disp.plot(cmap=\"Blues\", values_format='d')\n",
    "plt.title(\"Confusion Matrix on TEST\")  \n",
    "plt.show()\n",
    "\n",
    "print(classification_report(y_true, y_pred, target_names=[\"Not Dup\", \"Dup\"]))\n",
    "results_test = trainer.evaluate(eval_dataset=test_tok)\n",
    "\n",
    "print(\"Test Accuracy:\", results_test.get(\"eval_accuracy\"))\n",
    "print(\"Test F1:\", results_test.get(\"eval_f1\"))\n",
    "print(\"Test LogLoss:\", results_test.get(\"eval_log_loss\"))\n",
    "print(\"Evaluation on full test set:\")\n",
    "print(results_test)\n"
   ]
  },
  {
   "cell_type": "markdown",
   "id": "c00bab41",
   "metadata": {},
   "source": [
    "Test Accuracy: 0.899675975166341\n",
    "Test F1: 0.8675202508492291\n",
    "Test LogLoss: 0.33365573444021235\n",
    "Evaluation on full test set:\n",
    "{'eval_loss': 0.3336557149887085, 'eval_model_preparation_time': 0.002, 'eval_accuracy': 0.899675975166341, 'eval_log_loss': 0.33365573444021235, 'eval_f1': 0.8675202508492291, 'eval_runtime': 148.5264, 'eval_samples_per_second': 544.402, 'eval_steps_per_second': 34.028}"
   ]
  },
  {
   "cell_type": "code",
   "execution_count": null,
   "id": "c31ca1e0",
   "metadata": {},
   "outputs": [
    {
     "name": "stdout",
     "output_type": "stream",
     "text": [
      "     Set  Accuracy       F1   LogLoss\n",
      "0  Train  0.967319  0.95694  0.098957\n",
      "1   Test  0.899676  0.86752  0.333656\n"
     ]
    }
   ],
   "source": [
    "# Prepare results for DataFrame\n",
    "results_train = {\n",
    "    \"Set\": \"Train\",\n",
    "    \"Accuracy\": results_train[\"eval_accuracy\"],\n",
    "    \"F1\": results_train[\"eval_f1\"],\n",
    "    \"LogLoss\": results_train[\"eval_log_loss\"]\n",
    "}\n",
    "\n",
    "results_test = {\n",
    "    \"Set\": \"Test\",\n",
    "    \"Accuracy\": results_test[\"eval_accuracy\"],\n",
    "    \"F1\": results_test[\"eval_f1\"],\n",
    "    \"LogLoss\": results_test[\"eval_log_loss\"],\n",
    "}\n",
    "\n",
    "df_results = pd.DataFrame([results_train, results_test])\n",
    "print(df_results)"
   ]
  },
  {
   "cell_type": "markdown",
   "id": "cd735c1e",
   "metadata": {},
   "source": [
    "The DistilBERT model significantly outperformed the LSTM model across all metrics. On the test set, DistilBERT achieved an F1-score of 0.87, compared to 0.68 from the LSTM model. This confirms that transformers, even lightweight versions like DistilBERT, are more effective in capturing semantic similarity between questions than LSTM-based architectures, particularly on augmented data.\n",
    "\n",
    "Despite the data imbalance being partially addressed through augmentation, the relatively modest size (~2,700 new samples) may still limit the generalization performance, especially for simpler models like LSTM. Additionally, the overfitting observed in DistilBERT’s high train accuracy (96.7%) compared to test accuracy (89.9%) suggests the model could benefit from regularization or further data augmentation.\n",
    "\n",
    "Overall, transformer-based fine-tuning proves to be a robust choice for duplicate question detection in this context."
   ]
  }
 ],
 "metadata": {
  "kernelspec": {
   "display_name": "Python 3",
   "language": "python",
   "name": "python3"
  },
  "language_info": {
   "codemirror_mode": {
    "name": "ipython",
    "version": 3
   },
   "file_extension": ".py",
   "mimetype": "text/x-python",
   "name": "python",
   "nbconvert_exporter": "python",
   "pygments_lexer": "ipython3",
   "version": "3.12.3"
  }
 },
 "nbformat": 4,
 "nbformat_minor": 5
}
